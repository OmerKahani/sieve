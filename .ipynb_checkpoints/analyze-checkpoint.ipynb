{
 "cells": [
  {
   "cell_type": "code",
   "execution_count": 1,
   "id": "3a2de754-e4de-4a17-93ce-952bf2b27aeb",
   "metadata": {},
   "outputs": [],
   "source": [
    "import json\n",
    "import yaml\n",
    "import copy\n",
    "import sys\n",
    "import os\n",
    "import shutil\n",
    "import kubernetes\n",
    "import controllers\n",
    "import common\n",
    "import oracle\n",
    "import analyze_event\n",
    "import sqlite3\n",
    "import json\n",
    "import optparse\n",
    "import analyze\n",
    "import glob\n",
    "\n",
    "\n"
   ]
  },
  {
   "cell_type": "code",
   "execution_count": 13,
   "id": "169353ef-ce52-4d0c-858c-f1b6f43f8477",
   "metadata": {},
   "outputs": [
    {
     "name": "stdout",
     "output_type": "stream",
     "text": [
      "Analyzing log/mongodb-operator/disable-enable-shard/run/sonar-server.log to generate <event, side-effect> pairs ...\n",
      "Running base pass ...\n",
      "Running optional pass: delete-only-filtering ...\n",
      "Running optional pass: error-message-filtering ...\n",
      "Running optional pass: write-read-overlap-filtering ...\n"
     ]
    }
   ],
   "source": [
    "conf_path = \"log/mongodb-operator/disable-enable-shard/run/sonar-server.log\"\n",
    "causality_pairs, event_key_map = analyze.generate_event_effect_pairs(conf_path, False)"
   ]
  },
  {
   "cell_type": "code",
   "execution_count": 14,
   "id": "f48933fb-1012-4220-879d-6cb2c2c573ac",
   "metadata": {},
   "outputs": [
    {
     "data": {
      "text/plain": [
       "160"
      ]
     },
     "execution_count": 14,
     "metadata": {},
     "output_type": "execute_result"
    }
   ],
   "source": [
    "len(causality_pairs)"
   ]
  },
  {
   "cell_type": "code",
   "execution_count": 32,
   "id": "a3ec3c86-3668-4de6-8955-79e342cb7e94",
   "metadata": {},
   "outputs": [],
   "source": [
    "filtered_causality_pairs = []\n",
    "for pair in causality_pairs:\n",
    "    start_event = pair[0]\n",
    "    side_effect = pair[1] # e.g. delete sth\n",
    "    # Ignore if side effect is not delete\n",
    "    if not side_effect.etype == \"Delete\":\n",
    "        filtered_causality_pairs.append(pair)\n",
    "        continue\n",
    "    if start_event.end_timestamp < 609:\n",
    "        continue\n",
    "    flag = False\n",
    "    if side_effect.key in event_key_map:\n",
    "        for event in event_key_map[side_effect.key]:\n",
    "            # We will find add sth\n",
    "            if event.start_timestamp <= side_effect.end_timestamp:\n",
    "                continue\n",
    "#             if event.start_timestamp <= 609:\n",
    "#                 continue\n",
    "            if event.etype == \"Added\":\n",
    "                flag = True\n",
    "    if flag:\n",
    "        filtered_causality_pairs.append(pair)"
   ]
  },
  {
   "cell_type": "code",
   "execution_count": 33,
   "id": "bc92952f-915b-481c-a4c0-4ddeccc16a17",
   "metadata": {},
   "outputs": [
    {
     "data": {
      "text/plain": [
       "20"
      ]
     },
     "execution_count": 33,
     "metadata": {},
     "output_type": "execute_result"
    }
   ],
   "source": [
    "len(filtered_causality_pairs)"
   ]
  },
  {
   "cell_type": "markdown",
   "id": "268ddbd4-82e0-447a-8c51-456beb01677d",
   "metadata": {},
   "source": [
    "```\n",
    "<test_framework.TestCmd object at 0x7f120c82ec50> 2021-06-12 21:32:03.428881\n",
    "kubectl apply -f test-mongodb-operator/test/cr-shard.yaml\n",
    "perconaservermongodb.psmdb.percona.com/mongodb-cluster created\n",
    "<test_framework.TestWaitForStatus object at 0x7f120c82ec88> 2021-06-12 21:32:10.248871\n",
    "wait until pod mongodb-cluster-rs0-2 becomes Running...\n",
    "wait takes 288.476870 seconds\n",
    "<test_framework.TestWaitForStatus object at 0x7f120c82ecc0> 2021-06-12 21:36:58.726010\n",
    "wait until pod mongodb-cluster-cfg-2 becomes Running...\n",
    "wait takes 0.029358 seconds\n",
    "<test_framework.TestCmd object at 0x7f120c82ecf8> 2021-06-12 21:36:58.755404\n",
    "kubectl patch PerconaServerMongoDB mongodb-cluster --type merge -p='{\"spec\":{\"sharding\":{\"enabled\":false}}}'\n",
    "perconaservermongodb.psmdb.percona.com/mongodb-cluster patched\n",
    "<test_framework.TestWaitForStatus object at 0x7f120c82ed30> 2021-06-12 21:36:58.886729\n",
    "wait until pod mongodb-cluster-cfg-2 becomes Terminated...\n",
    "wait takes 42.900099 seconds\n",
    "<test_framework.TestCmd object at 0x7f120c82ed68> 2021-06-12 21:37:41.787104\n",
    "kubectl patch PerconaServerMongoDB mongodb-cluster --type merge -p='{\"spec\":{\"sharding\":{\"enabled\":true}}}'\n",
    "perconaservermongodb.psmdb.percona.com/mongodb-cluster patched\n",
    "<test_framework.TestWaitForStatus object at 0x7f120c82eda0> 2021-06-12 21:37:43.005286\n",
    "wait until pod mongodb-cluster-cfg-2 becomes Running...\n",
    "wait takes 177.122607 seconds\n",
    "<test_framework.TestWait object at 0x7f120c82edd8> 2021-06-12 21:40:40.128152\n",
    "wait for 50 seconds\n",
    "learn_config /home/wenqing/sieve/log/mongodb-operator/disable-enable-shard/run\n",
    "```"
   ]
  },
  {
   "cell_type": "code",
   "execution_count": 39,
   "id": "ce4d86c0-9093-4fe5-b64f-c84a3f52e111",
   "metadata": {},
   "outputs": [
    {
     "name": "stdout",
     "output_type": "stream",
     "text": [
      "160\n"
     ]
    }
   ],
   "source": [
    "cnt = 0\n",
    "for pair in causality_pairs:\n",
    "    start_event = pair[0]\n",
    "    side_effect = pair[1] # e.g. delete sth\n",
    "#     print(side_effect.key, side_effect.range_start_timestamp, side_effect.range_end_timestamp)\n",
    "print(len(causality_pairs) - cnt)"
   ]
  },
  {
   "cell_type": "code",
   "execution_count": 7,
   "id": "8e74bb16-276b-4663-88f0-d3201bf43f6d",
   "metadata": {},
   "outputs": [
    {
     "name": "stdout",
     "output_type": "stream",
     "text": [
      "1\n",
      "1\n",
      "1\n",
      "1\n",
      "1\n",
      "1\n",
      "1\n",
      "1\n",
      "1\n",
      "1\n",
      "1\n",
      "1\n",
      "1\n",
      "1\n",
      "1\n",
      "1\n",
      "1\n",
      "1\n",
      "1\n",
      "1\n",
      "1\n",
      "1\n",
      "1\n",
      "1\n",
      "1\n",
      "1\n",
      "1\n",
      "1\n",
      "1\n",
      "1\n",
      "1\n"
     ]
    }
   ],
   "source": [
    "for den in glob.glob(\"log-batch/mongodb-operator/disable-enable-shard/test/*\"):\n",
    "    bug_report_path = os.path.join(den, \"bug-report.txt\")\n",
    "    if not os.path.isfile(bug_report_path):\n",
    "        print(1)\n",
    "        continue\n",
    "    \n",
    "    bug_report = open(bug_report_path).read()\n",
    "    print(bug_report)"
   ]
  },
  {
   "cell_type": "code",
   "execution_count": null,
   "id": "603c5e7f-054b-4a07-89d5-c0c14ae170bd",
   "metadata": {},
   "outputs": [],
   "source": []
  }
 ],
 "metadata": {
  "kernelspec": {
   "display_name": "Python 3",
   "language": "python",
   "name": "python3"
  },
  "language_info": {
   "codemirror_mode": {
    "name": "ipython",
    "version": 3
   },
   "file_extension": ".py",
   "mimetype": "text/x-python",
   "name": "python",
   "nbconvert_exporter": "python",
   "pygments_lexer": "ipython3",
   "version": "3.6.9"
  }
 },
 "nbformat": 4,
 "nbformat_minor": 5
}
